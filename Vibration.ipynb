{
 "cells": [
  {
   "cell_type": "code",
   "execution_count": 19,
   "metadata": {
    "collapsed": false
   },
   "outputs": [],
   "source": [
    "import numpy as np \n",
    "import scipy.integrate as integ\n",
    "from IPython.display import Math\n",
    "import matplotlib.pyplot as plt"
   ]
  },
  {
   "cell_type": "markdown",
   "metadata": {},
   "source": [
    "\n",
    "\\begin{equation}\n",
    "f'(x)  = -3x\n",
    "\\end{equation}\n",
    "\n"
   ]
  },
  {
   "cell_type": "code",
   "execution_count": 20,
   "metadata": {
    "collapsed": true
   },
   "outputs": [],
   "source": [
    "def test(x, t):\n",
    "    return -3*x[0]"
   ]
  },
  {
   "cell_type": "code",
   "execution_count": 21,
   "metadata": {
    "collapsed": true
   },
   "outputs": [],
   "source": [
    "#initial conditions\n",
    "x0 = [1]\n",
    "t = np.linspace(0, 4, 9)"
   ]
  },
  {
   "cell_type": "code",
   "execution_count": 22,
   "metadata": {
    "collapsed": false
   },
   "outputs": [],
   "source": [
    "sol = integ.odeint(test, x0, t)"
   ]
  },
  {
   "cell_type": "code",
   "execution_count": 23,
   "metadata": {
    "collapsed": false
   },
   "outputs": [],
   "source": [
    "fig1 = plt.figure()\n",
    "ax1 = fig1.add_subplot(111)\n",
    "ax1.plot(t, sol)\n",
    "plt.show()"
   ]
  },
  {
   "cell_type": "markdown",
   "metadata": {},
   "source": [
    "\\begin{equation}\n",
    "mx''(t) + cx'(t) + kx(t) = 0\\\\\n",
    "\\downarrow\\\\\n",
    "x_1'(t) = x_2(t)\\\\\n",
    "x_2'(t) = -\\frac{c}{m}\\ x_2(t) - \\frac{k}{m}\\ x_1(t)\n",
    "\\end{equation}\n"
   ]
  },
  {
   "cell_type": "code",
   "execution_count": 24,
   "metadata": {
    "collapsed": true
   },
   "outputs": [],
   "source": [
    "def vib1(x, t):\n",
    "    m = 3\n",
    "    c = 1\n",
    "    k = 2\n",
    "    \n",
    "    return [x[1], -(c/m)*x[1]-(k/m)*x[0]]"
   ]
  },
  {
   "cell_type": "markdown",
   "metadata": {},
   "source": [
    "\\begin{equation}\n",
    "x(t) = 0\\\\\n",
    "x'(t) = 0.25\\\\\n",
    "0 \\leq t \\leq 20\n",
    "\\end{equation}"
   ]
  },
  {
   "cell_type": "code",
   "execution_count": 25,
   "metadata": {
    "collapsed": true
   },
   "outputs": [],
   "source": [
    "x0 = [0, 0.25]\n",
    "t = np.linspace(0, 50, 1000)"
   ]
  },
  {
   "cell_type": "code",
   "execution_count": 26,
   "metadata": {
    "collapsed": true
   },
   "outputs": [],
   "source": [
    "solvib = integ.odeint(vib1, x0, t)"
   ]
  },
  {
   "cell_type": "code",
   "execution_count": 27,
   "metadata": {
    "collapsed": false
   },
   "outputs": [],
   "source": [
    "fig2 = plt.figure()\n",
    "ax2 = fig2.add_subplot(111)\n",
    "ax2.plot(t, solvib)\n",
    "ax2.set_xlabel('Time')\n",
    "ax2.set_ylabel('Displacement\\nVelocity')\n",
    "leg2 = ax2.legend(['Displacement','Velocity'])\n",
    "leg2.get_frame().set_linewidth(0.0)\n",
    "plt.show()"
   ]
  },
  {
   "cell_type": "markdown",
   "metadata": {},
   "source": [
    "Pêndulo rotacionando \n",
    "\\begin{equation}\n",
    "\\theta''(t) + \\bigg(\\frac{3g}{2l} - {\\Omega^2}cos(\\theta(t))\\bigg) sin(\\theta(t)) = 0\\\\\n",
    "\\downarrow\\\\\n",
    "\\theta_1'(t) = \\theta_2(t)\\\\\n",
    "\\theta_2'(t) = -\\bigg(\\frac{3g}{2l} - {\\Omega^2}cos(\\theta_1(t))\\bigg) sin(\\theta_1(t))\n",
    "\\end{equation}"
   ]
  },
  {
   "cell_type": "code",
   "execution_count": 28,
   "metadata": {
    "collapsed": false
   },
   "outputs": [],
   "source": [
    "g = 9.81\n",
    "l = 1\n",
    "omega = 50\n",
    "\n",
    "def pendulum(o, t):\n",
    "\n",
    "    \n",
    "    return [o[1], -((3*g/(2*l)-((omega**2)*np.cos(o[0]))))*np.sin(o[0])]"
   ]
  },
  {
   "cell_type": "code",
   "execution_count": 29,
   "metadata": {
    "collapsed": false
   },
   "outputs": [],
   "source": [
    "teta0 = np.arccos(3*g/(2*l*omega**2))\n",
    "o0 = [teta0+(20*np.pi/180), 0]"
   ]
  },
  {
   "cell_type": "code",
   "execution_count": 30,
   "metadata": {
    "collapsed": false
   },
   "outputs": [],
   "source": [
    "solpend = integ.odeint(pendulum, o0, t)"
   ]
  },
  {
   "cell_type": "code",
   "execution_count": 31,
   "metadata": {
    "collapsed": false
   },
   "outputs": [
    {
     "data": {
      "text/plain": [
       "0.005886"
      ]
     },
     "execution_count": 31,
     "metadata": {},
     "output_type": "execute_result"
    }
   ],
   "source": [
    "(3*g/(2*l*omega**2))"
   ]
  },
  {
   "cell_type": "markdown",
   "metadata": {},
   "source": [
    "\\begin{equation}\n",
    "\\theta(t) = Asin(\\omega_nt+\\phi)\\\\\n",
    "\\downarrow\\\\\n",
    "A = \\sqrt{\\frac{w_n^2 x_0^2 + v_0^2}{w_n^2}}\\\\\n",
    "\\phi = arctan\\bigg(\\frac{w_n x_0}{v_0}\\bigg)\n",
    "\\end{equation}"
   ]
  },
  {
   "cell_type": "code",
   "execution_count": 32,
   "metadata": {
    "collapsed": false
   },
   "outputs": [],
   "source": [
    "#Solução analítica\n",
    "teta = teta0+(20*np.pi/180)\n",
    "o_0 = [teta-teta0,0]\n",
    "wn = ((-3*g*np.cos(teta0)/(2*l))+omega**2)**0.5\n",
    "#wn = ((-3*g/(2*l))+(omega**2))**0.5\n",
    "A = (((wn**2)*(o_0[0]**2)+(o_0[1]**2))/(wn**2))**0.5\n",
    "if o_0[1] == 0:\n",
    "    phi = np.pi/2\n",
    "else:\n",
    "    phi = np.arctan(wn*0/o_0[1])\n",
    "oa = A*np.sin(wn*t + phi)"
   ]
  },
  {
   "cell_type": "code",
   "execution_count": 33,
   "metadata": {
    "collapsed": true
   },
   "outputs": [],
   "source": [
    "solpendan = teta0+A*np.sin(wn*t+phi)"
   ]
  },
  {
   "cell_type": "code",
   "execution_count": 34,
   "metadata": {
    "collapsed": false
   },
   "outputs": [],
   "source": [
    "fig3 = plt.figure()\n",
    "ax3 = fig3.add_subplot(111)\n",
    "ax3.plot(t, solpendan)\n",
    "ax3.plot(t, solpend[:,0])\n",
    "ax3.set_xlabel('Time')\n",
    "ax3.set_ylabel('Displacement\\nVelocity')\n",
    "ax3.set_yticks([0., np.pi/4, np.pi/2, 3*np.pi/4, np.pi])\n",
    "ax3.set_yticklabels(['0','45','90','135','180'])\n",
    "leg3 = ax3.legend(['Linear','Non linear'])\n",
    "leg3.get_frame().set_linewidth(0.0)\n",
    "plt.show()"
   ]
  },
  {
   "cell_type": "code",
   "execution_count": 41,
   "metadata": {
    "collapsed": false
   },
   "outputs": [],
   "source": [
    "class VibSystemForced(object):\n",
    "    \n",
    "    def __init__(self, m, c, k, t, x0, F, w_f, phi_f=0):\n",
    "        self.m = m\n",
    "        self.c = c\n",
    "        self.k = k\n",
    "        self.t = t\n",
    "        self.x0 = x0\n",
    "        self.F = F\n",
    "        self.w_f = w_f\n",
    "        self.phi_f = phi_f       \n",
    " \n",
    "    #--------------------------------------------RESPOSTA DO SISTEMA--------------------------------------------\n",
    "    \n",
    "    def response(self, x, t, force_type):\n",
    "        m = self.m\n",
    "        c = self.c\n",
    "        k = self.k      \n",
    "        F = self.F\n",
    "        w_f = self.w_f #frequência de forçamento\n",
    "        phi_f = self.phi_f \n",
    "        if force_type == 'cos':\n",
    "            force = F*np.cos(w_f*t + phi_f)\n",
    "        \n",
    "        elif force_type == 'sen':\n",
    "            force = F*np.cos(w_f*t + phi_f)\n",
    "            \n",
    "        elif force_type == 'impulse':\n",
    "            force = F\n",
    "        \n",
    "        return [x[1], (force/m) - (c/m)*x[1] -(k/m)*x[0]]        \n",
    "    \n",
    "    \n",
    "    #--------------------------------------------FORÇAMENTOS POSSÍVEIS--------------------------------------------\n",
    "    \n",
    "    def force_cos(self): # integra a função response para o forçamento escolhido (cos)\n",
    "        self.t = t              \n",
    "        force_type = 'cos'\n",
    "        return integ.odeint(self.response, self.x0, self.t, args=(force_type,))  \n",
    "    \n",
    "    \n",
    "    #--------------------------------------------PARAMETROS DO SISTEMA--------------------------------------------\n",
    "\n",
    "    def wn(self):\n",
    "        return (self.k/self.m)**0.5\n",
    "    \n",
    "    def damp_ratio(self):\n",
    "        return self.c/(2*(self.k*self.m)**0.5)\n",
    "    \n",
    "    def log_dec(self):\n",
    "        return 2*np.pi*self.damp_ratio()/((1-self.damp_ratio()**2)**0.5)\n",
    "    \n",
    "    def wd(self):\n",
    "        return self.wn()*(1-self.damp_ratio()**2)**0.5\n",
    "    \n",
    "    def period(self):\n",
    "        return 1/self.wd()\n",
    "    \n",
    "    def amp(self):\n",
    "        x0 = self.x0[0]\n",
    "        v0 = self.x0[1]\n",
    "        zeta = self.damp_ratio()\n",
    "        wn = self.wn()\n",
    "        wd = self.wd()\n",
    "        \n",
    "        return (((v0+zeta*x0*wn)**2+(x0*wd)**2)**0.5)/wd\n",
    "    \n",
    "    def phi(self):\n",
    "        x0 = self.x0[0]\n",
    "        v0 = self.x0[1]\n",
    "        zeta = self.damp_ratio()\n",
    "        wn = self.wn()\n",
    "        wd = self.wd()\n",
    "    \n",
    "        return np.arctan((x0*wd)/(v0+zeta*wn*x0))\n",
    "    \n",
    "    #--------------------------------------------------GRÁFICOS----------------------------------------------------\n",
    "    \n",
    "    def plot_disp(self, force_type):\n",
    "        dic = {'force_cos':self.force_cos()}\n",
    "        fig1 = plt.figure()\n",
    "        ax1 = fig1.add_subplot(111)\n",
    "        ax1.plot(self.t, dic[force_type][:,0])\n",
    "        ax1.set_xlabel('Time')\n",
    "        ax1.set_ylabel('Displacement')\n",
    "        leg1 = ax1.legend(['Displacement'])\n",
    "        leg1.get_frame().set_linewidth(0.0)\n",
    "        plt.show()\n",
    "        \n",
    "    def plot_vel(self):\n",
    "        fig2 = plt.figure()\n",
    "        ax2 = fig2.add_subplot(111)\n",
    "        ax2.plot(self.t, self.solvib2()[:,1])\n",
    "        ax2.set_xlabel('Time')\n",
    "        ax2.set_ylabel('Velocity')\n",
    "        leg2 = ax2.legend(['Velocity'])\n",
    "        leg2.get_frame().set_linewidth(0.0)\n",
    "        plt.show()\n",
    "        \n",
    "    def plot_disp_vel(self):\n",
    "        fig3 = plt.figure()\n",
    "        ax3 = fig3.add_subplot(111)\n",
    "        ax3.plot(self.t, self.solvib2())\n",
    "        ax3.set_xlabel('Time')\n",
    "        ax3.set_ylabel('Displacement\\nVelocity')\n",
    "        leg3 = ax3.legend(['Displacement','Velocity'])\n",
    "        leg3.get_frame().set_linewidth(0.0)\n",
    "        plt.show()\n",
    "        \n",
    "        "
   ]
  },
  {
   "cell_type": "code",
   "execution_count": 42,
   "metadata": {
    "collapsed": false
   },
   "outputs": [],
   "source": [
    "vibex1 = VibSystemForced(100, 200, 2000, t, [0.0, 0.1], 150, 10)"
   ]
  },
  {
   "cell_type": "code",
   "execution_count": 43,
   "metadata": {
    "collapsed": false
   },
   "outputs": [],
   "source": [
    "vibex1.plot_disp('force_cos')"
   ]
  },
  {
   "cell_type": "code",
   "execution_count": null,
   "metadata": {
    "collapsed": true
   },
   "outputs": [],
   "source": [
    "\"\"\"    def force_cos(self, t):\n",
    "        F = self.F\n",
    "        w_f = self.w_f #frequência de forçamento\n",
    "        phi_f = self.phi_f\n",
    "        \n",
    "        return F*np.cos(w_f*t+phi_f)\n",
    "    \n",
    "    def impulse(self):\n",
    "        F = self.F\n",
    "        if t = 0:\n",
    "            return F\n",
    "        else:\n",
    "            return 0\n",
    "        \n",
    "    \n",
    "    #def impulse_response(self, F0):\n",
    "        \n",
    "        \n",
    "    def response(self, x, t):\n",
    "        m = self.m\n",
    "        c = self.c\n",
    "        k = self.k\n",
    "        \n",
    "        force = self.force_cos(t)\n",
    "        \n",
    "        return [x[1], (force/m)-(c/m)*x[1]-(k/m)*x[0]]             \n",
    "    \n",
    "    def solvib2(self):        \n",
    "        return integ.odeint(self.response, self.x0, self.t)\"\"\""
   ]
  },
  {
   "cell_type": "code",
   "execution_count": null,
   "metadata": {
    "collapsed": false
   },
   "outputs": [],
   "source": [
    "force_cos = 0\n",
    "d={'a':force_cos}"
   ]
  },
  {
   "cell_type": "code",
   "execution_count": null,
   "metadata": {
    "collapsed": false
   },
   "outputs": [],
   "source": [
    "b = 'a'\n"
   ]
  },
  {
   "cell_type": "code",
   "execution_count": null,
   "metadata": {
    "collapsed": false
   },
   "outputs": [],
   "source": [
    "d[b]"
   ]
  },
  {
   "cell_type": "code",
   "execution_count": null,
   "metadata": {
    "collapsed": true
   },
   "outputs": [],
   "source": []
  }
 ],
 "metadata": {
  "kernelspec": {
   "display_name": "Python 3",
   "language": "python",
   "name": "python3"
  },
  "language_info": {
   "codemirror_mode": {
    "name": "ipython",
    "version": 3
   },
   "file_extension": ".py",
   "mimetype": "text/x-python",
   "name": "python",
   "nbconvert_exporter": "python",
   "pygments_lexer": "ipython3",
   "version": "3.5.1"
  }
 },
 "nbformat": 4,
 "nbformat_minor": 0
}
