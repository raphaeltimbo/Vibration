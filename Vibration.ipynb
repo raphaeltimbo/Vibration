{
 "cells": [
  {
   "cell_type": "code",
   "execution_count": 3,
   "metadata": {
    "collapsed": false
   },
   "outputs": [],
   "source": [
    "import numpy as np \n",
    "import scipy.integrate as integ\n",
    "from IPython.display import Math\n",
    "import matplotlib.pyplot as plt"
   ]
  },
  {
   "cell_type": "markdown",
   "metadata": {},
   "source": [
    "\n",
    "\\begin{equation}\n",
    "f'(x)  = -3x\n",
    "\\end{equation}\n",
    "\n"
   ]
  },
  {
   "cell_type": "code",
   "execution_count": 4,
   "metadata": {
    "collapsed": true
   },
   "outputs": [],
   "source": [
    "def test(x, t):\n",
    "    return -3*x[0]"
   ]
  },
  {
   "cell_type": "code",
   "execution_count": 5,
   "metadata": {
    "collapsed": true
   },
   "outputs": [],
   "source": [
    "#initial conditions\n",
    "x0 = [1]\n",
    "t = np.linspace(0, 4, 9)"
   ]
  },
  {
   "cell_type": "code",
   "execution_count": 6,
   "metadata": {
    "collapsed": false
   },
   "outputs": [
    {
     "data": {
      "text/plain": [
       "array([ 0. ,  0.5,  1. ,  1.5,  2. ,  2.5,  3. ,  3.5,  4. ])"
      ]
     },
     "execution_count": 6,
     "metadata": {},
     "output_type": "execute_result"
    }
   ],
   "source": [
    "t"
   ]
  },
  {
   "cell_type": "code",
   "execution_count": 7,
   "metadata": {
    "collapsed": false
   },
   "outputs": [],
   "source": [
    "sol = integ.odeint(test, x0, t)"
   ]
  },
  {
   "cell_type": "code",
   "execution_count": 8,
   "metadata": {
    "collapsed": false
   },
   "outputs": [],
   "source": [
    "fig1 = plt.figure()\n",
    "ax1 = fig1.add_subplot(111)\n",
    "ax1.plot(t, sol)\n",
    "plt.show()"
   ]
  },
  {
   "cell_type": "markdown",
   "metadata": {},
   "source": [
    "\\begin{equation}\n",
    "mx''(t) + cx'(t) + kx(t) = 0\\\\\n",
    "\\downarrow\\\\\n",
    "x_1'(t) = x_2(t)\\\\\n",
    "x_2'(t) = -\\frac{c}{m}\\ x_2(t) - \\frac{k}{m}\\ x_1(t)\n",
    "\\end{equation}\n"
   ]
  },
  {
   "cell_type": "code",
   "execution_count": 9,
   "metadata": {
    "collapsed": true
   },
   "outputs": [],
   "source": [
    "def vib1(x, t):\n",
    "    m = 3\n",
    "    c = 1\n",
    "    k = 2\n",
    "    \n",
    "    return [x[1], -(c/m)*x[1]-(k/m)*x[0]]"
   ]
  },
  {
   "cell_type": "markdown",
   "metadata": {},
   "source": [
    "\\begin{equation}\n",
    "x(t) = 0\\\\\n",
    "x'(t) = 0.25\\\\\n",
    "0 \\leq t \\leq 20\n",
    "\\end{equation}"
   ]
  },
  {
   "cell_type": "code",
   "execution_count": 10,
   "metadata": {
    "collapsed": true
   },
   "outputs": [],
   "source": [
    "x0 = [0, 0.25]\n",
    "t = np.linspace(0, 20, 1000)"
   ]
  },
  {
   "cell_type": "code",
   "execution_count": 11,
   "metadata": {
    "collapsed": true
   },
   "outputs": [],
   "source": [
    "solvib = integ.odeint(vib1, x0, t)"
   ]
  },
  {
   "cell_type": "code",
   "execution_count": 12,
   "metadata": {
    "collapsed": false
   },
   "outputs": [],
   "source": [
    "fig2 = plt.figure()\n",
    "ax2 = fig2.add_subplot(111)\n",
    "ax2.plot(t, solvib)\n",
    "ax2.set_xlabel('Time')\n",
    "ax2.set_ylabel('Displacement\\nVelocity')\n",
    "leg2 = ax2.legend(['Displacement','Velocity'])\n",
    "leg2.get_frame().set_linewidth(0.0)\n",
    "plt.show()"
   ]
  },
  {
   "cell_type": "markdown",
   "metadata": {},
   "source": [
    "\\begin{equation}\n",
    "\\theta''(t) + \\frac{g}{l}sin(\\theta(t)) = 0\\\\\n",
    "\\downarrow\\\\\n",
    "\\theta_1'(t) = \\theta_2(t)\\\\\n",
    "\\theta_2'(t) = -\\frac{g}{l}\\ sin(\\theta_1(t))\n",
    "\\end{equation}"
   ]
  },
  {
   "cell_type": "code",
   "execution_count": 13,
   "metadata": {
    "collapsed": false
   },
   "outputs": [],
   "source": [
    "def pendulum(o, t):\n",
    "    g = 9.81\n",
    "    l = 1\n",
    "    \n",
    "    return [o[1], -(g/l)*np.sin(o[0])]"
   ]
  },
  {
   "cell_type": "code",
   "execution_count": 14,
   "metadata": {
    "collapsed": true
   },
   "outputs": [],
   "source": [
    "o0 = [35*np.pi/180, 0]"
   ]
  },
  {
   "cell_type": "code",
   "execution_count": 15,
   "metadata": {
    "collapsed": true
   },
   "outputs": [],
   "source": [
    "solpend = integ.odeint(pendulum, o0, t)"
   ]
  },
  {
   "cell_type": "markdown",
   "metadata": {},
   "source": [
    "\\begin{equation}\n",
    "\\theta(t) = Asin(\\omega_nt+\\phi)\\\\\n",
    "\\downarrow\\\\\n",
    "A = \\sqrt{\\frac{w_n^2 x_0^2 + v_0^2}{w_n^2}}\\\\\n",
    "\\phi = arctan(\\frac{w_n x_0}{v_0})\n",
    "\\end{equation}"
   ]
  },
  {
   "cell_type": "code",
   "execution_count": 16,
   "metadata": {
    "collapsed": false
   },
   "outputs": [],
   "source": [
    "#Solução analítica\n",
    "g = 9.81\n",
    "l = 1\n",
    "wn = (g/l)**0.5\n",
    "A = (((wn**2)*(o0[0]**2)+(o0[1]**2))/(wn**2))**0.5\n",
    "if o0[1] == 0:\n",
    "    phi = np.pi/2\n",
    "else:\n",
    "    phi = np.arctan(wn*o0[0]/o0[1])\n",
    "oa = A*np.sin(wn*t + phi)"
   ]
  },
  {
   "cell_type": "code",
   "execution_count": 17,
   "metadata": {
    "collapsed": true
   },
   "outputs": [],
   "source": [
    "solpendan = A*np.sin(wn*t+phi)"
   ]
  },
  {
   "cell_type": "code",
   "execution_count": 18,
   "metadata": {
    "collapsed": false
   },
   "outputs": [],
   "source": [
    "fig3 = plt.figure()\n",
    "ax3 = fig3.add_subplot(111)\n",
    "ax3.plot(t, solpendan)\n",
    "ax3.plot(t, solpend[:,0])\n",
    "ax3.set_xlabel('Time')\n",
    "ax3.set_ylabel('Displacement\\nVelocity')\n",
    "leg3 = ax3.legend(['Linear','Non linear'])\n",
    "leg3.get_frame().set_linewidth(0.0)\n",
    "plt.show()"
   ]
  },
  {
   "cell_type": "code",
   "execution_count": 19,
   "metadata": {
    "collapsed": false
   },
   "outputs": [],
   "source": [
    "class VibSystem(object):\n",
    "    \n",
    "    def __init__(self, m, c, k, t, x0):\n",
    "        self.m = m\n",
    "        self.c = c\n",
    "        self.k = k\n",
    "        self.t = t\n",
    "        self.x0 = x0\n",
    "        \n",
    "    def response(self, x, t):\n",
    "        m = self.m\n",
    "        c = self.c\n",
    "        k = self.k\n",
    "        return [x[1], -(c/m)*x[1]-(k/m)*x[0]]\n",
    "    \n",
    "    def solvib2(self):        \n",
    "        return integ.odeint(self.response, self.x0, self.t)\n",
    "    \n",
    "    def wn(self):\n",
    "        return (self.k/self.m)**0.5\n",
    "    \n",
    "    def damp_ratio(self):\n",
    "        return self.c/(2*(self.k*self.m)**0.5)\n",
    "    \n",
    "    def wd(self):\n",
    "        return self.wn()*(1-self.damp_ratio()**2)**0.5\n",
    "    \n",
    "    def period(self):\n",
    "        return 1/self.wd()\n",
    "    \n",
    "    def amp(self):\n",
    "        x0 = self.x0[0]\n",
    "        v0 = self.x0[1]\n",
    "        zeta = self.damp_ratio()\n",
    "        wn = self.wn()\n",
    "        wd = self.wd()\n",
    "        \n",
    "        return (((v0+zeta*x0*wn)**2+(x0*wd)**2)**0.5)/wd\n",
    "    \n",
    "    def phi(self):\n",
    "        x0 = self.x0[0]\n",
    "        v0 = self.x0[1]\n",
    "        zeta = self.damp_ratio()\n",
    "        wn = self.wn()\n",
    "        wd = self.wd()\n",
    "    \n",
    "        return np.arctan((x0*wd)/(v0+zeta*wn*x0))\n",
    "    \n",
    "    #Plots\n",
    "    \n",
    "    def plot_disp(self):\n",
    "        fig1 = plt.figure()\n",
    "        ax1 = fig1.add_subplot(111)\n",
    "        ax1.plot(self.t, self.solvib2()[:,0])\n",
    "        ax1.set_xlabel('Time')\n",
    "        ax1.set_ylabel('Displacement')\n",
    "        leg1 = ax1.legend(['Displacement'])\n",
    "        leg1.get_frame().set_linewidth(0.0)\n",
    "        plt.show()\n",
    "        \n",
    "    def plot_vel(self):\n",
    "        fig2 = plt.figure()\n",
    "        ax2 = fig2.add_subplot(111)\n",
    "        ax2.plot(self.t, self.solvib2()[:,1])\n",
    "        ax2.set_xlabel('Time')\n",
    "        ax2.set_ylabel('Velocity')\n",
    "        leg2 = ax2.legend(['Velocity'])\n",
    "        leg2.get_frame().set_linewidth(0.0)\n",
    "        plt.show()\n",
    "        \n",
    "    def plot_disp_vel(self):\n",
    "        fig3 = plt.figure()\n",
    "        ax3 = fig3.add_subplot(111)\n",
    "        ax3.plot(self.t, self.solvib2())\n",
    "        ax3.set_xlabel('Time')\n",
    "        ax3.set_ylabel('Displacement\\nVelocity')\n",
    "        leg3 = ax3.legend(['Displacement','Velocity'])\n",
    "        leg3.get_frame().set_linewidth(0.0)\n",
    "        plt.show()\n",
    "        \n",
    "        "
   ]
  },
  {
   "cell_type": "code",
   "execution_count": 20,
   "metadata": {
    "collapsed": true
   },
   "outputs": [],
   "source": [
    "Vib1 = VibSystem(3, 2, 2, t, x0)"
   ]
  },
  {
   "cell_type": "code",
   "execution_count": 21,
   "metadata": {
    "collapsed": false
   },
   "outputs": [],
   "source": [
    "Vib1.plot_disp_vel()"
   ]
  },
  {
   "cell_type": "code",
   "execution_count": 22,
   "metadata": {
    "collapsed": true
   },
   "outputs": [],
   "source": [
    "Vib117 = VibSystem(1361, 3.81*10**3, 2.688*10**5, t, [0, 0.01/1000])"
   ]
  },
  {
   "cell_type": "code",
   "execution_count": 23,
   "metadata": {
    "collapsed": false
   },
   "outputs": [
    {
     "data": {
      "text/plain": [
       "13.98365687946418"
      ]
     },
     "execution_count": 23,
     "metadata": {},
     "output_type": "execute_result"
    }
   ],
   "source": [
    "Vib117.wd()"
   ]
  },
  {
   "cell_type": "code",
   "execution_count": 24,
   "metadata": {
    "collapsed": false
   },
   "outputs": [
    {
     "data": {
      "text/plain": [
       "0.09959815311550789"
      ]
     },
     "execution_count": 24,
     "metadata": {},
     "output_type": "execute_result"
    }
   ],
   "source": [
    "Vib117.damp_ratio()"
   ]
  },
  {
   "cell_type": "code",
   "execution_count": 25,
   "metadata": {
    "collapsed": false
   },
   "outputs": [
    {
     "data": {
      "text/plain": [
       "7.151205214914553e-07"
      ]
     },
     "execution_count": 25,
     "metadata": {},
     "output_type": "execute_result"
    }
   ],
   "source": [
    "Vib117.amp()"
   ]
  },
  {
   "cell_type": "code",
   "execution_count": 26,
   "metadata": {
    "collapsed": true
   },
   "outputs": [],
   "source": [
    "vib131 = VibSystem(49.2*10**-3, 0.11, 857.8, t, [0.1,0])"
   ]
  },
  {
   "cell_type": "code",
   "execution_count": 27,
   "metadata": {
    "collapsed": false
   },
   "outputs": [
    {
     "data": {
      "text/plain": [
       "0.008466172579766066"
      ]
     },
     "execution_count": 27,
     "metadata": {},
     "output_type": "execute_result"
    }
   ],
   "source": [
    "vib131.damp_ratio()"
   ]
  },
  {
   "cell_type": "code",
   "execution_count": 28,
   "metadata": {
    "collapsed": true
   },
   "outputs": [],
   "source": [
    "vib141 = VibSystem(10, 3, 1000, t, [0.01,0])"
   ]
  },
  {
   "cell_type": "code",
   "execution_count": 29,
   "metadata": {
    "collapsed": false
   },
   "outputs": [
    {
     "data": {
      "text/plain": [
       "0.015"
      ]
     },
     "execution_count": 29,
     "metadata": {},
     "output_type": "execute_result"
    }
   ],
   "source": [
    "vib141.damp_ratio()"
   ]
  },
  {
   "cell_type": "code",
   "execution_count": 30,
   "metadata": {
    "collapsed": false
   },
   "outputs": [
    {
     "data": {
      "text/plain": [
       "0.010001125189879353"
      ]
     },
     "execution_count": 30,
     "metadata": {},
     "output_type": "execute_result"
    }
   ],
   "source": [
    "vib141.amp()"
   ]
  },
  {
   "cell_type": "code",
   "execution_count": 31,
   "metadata": {
    "collapsed": false
   },
   "outputs": [
    {
     "data": {
      "text/plain": [
       "1.5557957642379359"
      ]
     },
     "execution_count": 31,
     "metadata": {},
     "output_type": "execute_result"
    }
   ],
   "source": [
    "vib141.phi()"
   ]
  },
  {
   "cell_type": "code",
   "execution_count": 32,
   "metadata": {
    "collapsed": true
   },
   "outputs": [],
   "source": [
    "class VibSystemForced(object):\n",
    "    \n",
    "    def __init__(self, m, c, k, t, x0, F, w_f, phi_f=0):\n",
    "        self.m = m\n",
    "        self.c = c\n",
    "        self.k = k\n",
    "        self.t = t\n",
    "        self.x0 = x0\n",
    "        self.F = F\n",
    "        self.w_f = w_f\n",
    "        \n",
    "    def response(self, x, t):\n",
    "        m = self.m\n",
    "        c = self.c\n",
    "        k = self.k\n",
    "        F = self.F\n",
    "        w_f = self.w_f #frequência de forçamento\n",
    "        return [x[1], (F*np.cos(w_f*t+phi_f)/m)-(c/m)*x[1]-(k/m)*x[0]]\n",
    "    \n",
    "    def solvib2(self):        \n",
    "        return integ.odeint(self.response, self.x0, self.t)\n",
    "    \n",
    "    def wn(self):\n",
    "        return (self.k/self.m)**0.5\n",
    "    \n",
    "    def damp_ratio(self):\n",
    "        return self.c/(2*(self.k*self.m)**0.5)\n",
    "    \n",
    "    def log_dec(self):\n",
    "        return 2*np.pi*self.damp_ratio()/((1-self.damp_ratio()**2)**0.5)\n",
    "    \n",
    "    def wd(self):\n",
    "        return self.wn()*(1-self.damp_ratio()**2)**0.5\n",
    "    \n",
    "    def period(self):\n",
    "        return 1/self.wd()\n",
    "    \n",
    "    def amp(self):\n",
    "        x0 = self.x0[0]\n",
    "        v0 = self.x0[1]\n",
    "        zeta = self.damp_ratio()\n",
    "        wn = self.wn()\n",
    "        wd = self.wd()\n",
    "        \n",
    "        return (((v0+zeta*x0*wn)**2+(x0*wd)**2)**0.5)/wd\n",
    "    \n",
    "    def phi(self):\n",
    "        x0 = self.x0[0]\n",
    "        v0 = self.x0[1]\n",
    "        zeta = self.damp_ratio()\n",
    "        wn = self.wn()\n",
    "        wd = self.wd()\n",
    "    \n",
    "        return np.arctan((x0*wd)/(v0+zeta*wn*x0))\n",
    "    \n",
    "    #Plots\n",
    "    \n",
    "    def plot_disp(self):\n",
    "        fig1 = plt.figure()\n",
    "        ax1 = fig1.add_subplot(111)\n",
    "        ax1.plot(self.t, self.solvib2()[:,0])\n",
    "        ax1.set_xlabel('Time')\n",
    "        ax1.set_ylabel('Displacement')\n",
    "        leg1 = ax1.legend(['Displacement'])\n",
    "        leg1.get_frame().set_linewidth(0.0)\n",
    "        plt.show()\n",
    "        \n",
    "    def plot_vel(self):\n",
    "        fig2 = plt.figure()\n",
    "        ax2 = fig2.add_subplot(111)\n",
    "        ax2.plot(self.t, self.solvib2()[:,1])\n",
    "        ax2.set_xlabel('Time')\n",
    "        ax2.set_ylabel('Velocity')\n",
    "        leg2 = ax2.legend(['Velocity'])\n",
    "        leg2.get_frame().set_linewidth(0.0)\n",
    "        plt.show()\n",
    "        \n",
    "    def plot_disp_vel(self):\n",
    "        fig3 = plt.figure()\n",
    "        ax3 = fig3.add_subplot(111)\n",
    "        ax3.plot(self.t, self.solvib2())\n",
    "        ax3.set_xlabel('Time')\n",
    "        ax3.set_ylabel('Displacement\\nVelocity')\n",
    "        leg3 = ax3.legend(['Displacement','Velocity'])\n",
    "        leg3.get_frame().set_linewidth(0.0)\n",
    "        plt.show()\n",
    "        \n",
    "        "
   ]
  },
  {
   "cell_type": "code",
   "execution_count": 33,
   "metadata": {
    "collapsed": false
   },
   "outputs": [],
   "source": [
    "vib_ex211 = VibSystemForced(10, 1, 1000, t, [0, 0.2], 23, 10.1)"
   ]
  },
  {
   "cell_type": "code",
   "execution_count": 34,
   "metadata": {
    "collapsed": false
   },
   "outputs": [
    {
     "data": {
      "text/plain": [
       "0.031416319242342894"
      ]
     },
     "execution_count": 34,
     "metadata": {},
     "output_type": "execute_result"
    }
   ],
   "source": [
    "vib_ex211.log_dec()"
   ]
  },
  {
   "cell_type": "code",
   "execution_count": 35,
   "metadata": {
    "collapsed": false
   },
   "outputs": [
    {
     "data": {
      "text/plain": [
       "0.020000250004687598"
      ]
     },
     "execution_count": 35,
     "metadata": {},
     "output_type": "execute_result"
    }
   ],
   "source": [
    "vib_ex211.amp()"
   ]
  },
  {
   "cell_type": "code",
   "execution_count": 36,
   "metadata": {
    "collapsed": false
   },
   "outputs": [
    {
     "data": {
      "text/plain": [
       "10.0"
      ]
     },
     "execution_count": 36,
     "metadata": {},
     "output_type": "execute_result"
    }
   ],
   "source": [
    "vib_ex211.wn()"
   ]
  },
  {
   "cell_type": "code",
   "execution_count": 37,
   "metadata": {
    "collapsed": false
   },
   "outputs": [
    {
     "data": {
      "text/plain": [
       "0.015913478971147695"
      ]
     },
     "execution_count": 37,
     "metadata": {},
     "output_type": "execute_result"
    }
   ],
   "source": [
    "0.1/((4*np.pi**2)+(0.1**2))**0.5"
   ]
  },
  {
   "cell_type": "code",
   "execution_count": 38,
   "metadata": {
    "collapsed": false
   },
   "outputs": [
    {
     "data": {
      "text/plain": [
       "0.03181487509493862"
      ]
     },
     "execution_count": 38,
     "metadata": {},
     "output_type": "execute_result"
    }
   ],
   "source": [
    "0.2/((4*np.pi**2)+(0.2**2))**0.5"
   ]
  },
  {
   "cell_type": "code",
   "execution_count": 39,
   "metadata": {
    "collapsed": false
   },
   "outputs": [
    {
     "data": {
      "text/plain": [
       "6.283185307179586"
      ]
     },
     "execution_count": 39,
     "metadata": {},
     "output_type": "execute_result"
    }
   ],
   "source": [
    "2*np.pi"
   ]
  },
  {
   "cell_type": "code",
   "execution_count": null,
   "metadata": {
    "collapsed": true
   },
   "outputs": [],
   "source": []
  }
 ],
 "metadata": {
  "kernelspec": {
   "display_name": "Python 3",
   "language": "python",
   "name": "python3"
  },
  "language_info": {
   "codemirror_mode": {
    "name": "ipython",
    "version": 3
   },
   "file_extension": ".py",
   "mimetype": "text/x-python",
   "name": "python",
   "nbconvert_exporter": "python",
   "pygments_lexer": "ipython3",
   "version": "3.5.1"
  }
 },
 "nbformat": 4,
 "nbformat_minor": 0
}
