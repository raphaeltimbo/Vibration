{
 "cells": [
  {
   "cell_type": "code",
   "execution_count": 1,
   "metadata": {
    "collapsed": false
   },
   "outputs": [],
   "source": [
    "import numpy as np \n",
    "import scipy.integrate as integ\n",
    "from IPython.display import Math\n",
    "import matplotlib.pyplot as plt"
   ]
  },
  {
   "cell_type": "markdown",
   "metadata": {},
   "source": [
    "\n",
    "\\begin{equation}\n",
    "f'(x)  = -3x\n",
    "\\end{equation}\n",
    "\n"
   ]
  },
  {
   "cell_type": "code",
   "execution_count": 2,
   "metadata": {
    "collapsed": true
   },
   "outputs": [],
   "source": [
    "def test(x, t):\n",
    "    return -3*x[0]"
   ]
  },
  {
   "cell_type": "code",
   "execution_count": 3,
   "metadata": {
    "collapsed": true
   },
   "outputs": [],
   "source": [
    "#initial conditions\n",
    "x0 = [1]\n",
    "t = np.linspace(0, 4, 9)"
   ]
  },
  {
   "cell_type": "code",
   "execution_count": 4,
   "metadata": {
    "collapsed": false
   },
   "outputs": [],
   "source": [
    "sol = integ.odeint(test, x0, t)"
   ]
  },
  {
   "cell_type": "code",
   "execution_count": 5,
   "metadata": {
    "collapsed": false
   },
   "outputs": [],
   "source": [
    "fig1 = plt.figure()\n",
    "ax1 = fig1.add_subplot(111)\n",
    "ax1.plot(t, sol)\n",
    "plt.show()"
   ]
  },
  {
   "cell_type": "markdown",
   "metadata": {},
   "source": [
    "\\begin{equation}\n",
    "mx''(t) + cx'(t) + kx(t) = 0\\\\\n",
    "\\downarrow\\\\\n",
    "x_1'(t) = x_2(t)\\\\\n",
    "x_2'(t) = -\\frac{c}{m}\\ x_2(t) - \\frac{k}{m}\\ x_1(t)\n",
    "\\end{equation}\n"
   ]
  },
  {
   "cell_type": "code",
   "execution_count": 6,
   "metadata": {
    "collapsed": true
   },
   "outputs": [],
   "source": [
    "def vib1(x, t):\n",
    "    m = 3\n",
    "    c = 1\n",
    "    k = 2\n",
    "    \n",
    "    return [x[1], -(c/m)*x[1]-(k/m)*x[0]]"
   ]
  },
  {
   "cell_type": "markdown",
   "metadata": {},
   "source": [
    "\\begin{equation}\n",
    "x(t) = 0\\\\\n",
    "x'(t) = 0.25\\\\\n",
    "0 \\leq t \\leq 20\n",
    "\\end{equation}"
   ]
  },
  {
   "cell_type": "code",
   "execution_count": 7,
   "metadata": {
    "collapsed": true
   },
   "outputs": [],
   "source": [
    "x0 = [0, 0.25]\n",
    "t = np.linspace(0, 10, 500)"
   ]
  },
  {
   "cell_type": "code",
   "execution_count": 8,
   "metadata": {
    "collapsed": true
   },
   "outputs": [],
   "source": [
    "solvib = integ.odeint(vib1, x0, t)"
   ]
  },
  {
   "cell_type": "code",
   "execution_count": 9,
   "metadata": {
    "collapsed": false
   },
   "outputs": [],
   "source": [
    "fig2 = plt.figure()\n",
    "ax2 = fig2.add_subplot(111)\n",
    "ax2.plot(t, solvib)\n",
    "ax2.set_xlabel('Time')\n",
    "ax2.set_ylabel('Displacement\\nVelocity')\n",
    "leg2 = ax2.legend(['Displacement','Velocity'])\n",
    "leg2.get_frame().set_linewidth(0.0)\n",
    "plt.show()"
   ]
  },
  {
   "cell_type": "markdown",
   "metadata": {},
   "source": [
    "Pêndulo rotacionando \n",
    "\\begin{equation}\n",
    "\\theta''(t) + \\bigg(\\frac{3g}{2l} - {\\Omega^2}cos(\\theta(t))\\bigg) sin(\\theta(t)) = 0\\\\\n",
    "\\downarrow\\\\\n",
    "\\theta_1'(t) = \\theta_2(t)\\\\\n",
    "\\theta_2'(t) = -\\bigg(\\frac{3g}{2l} - {\\Omega^2}cos(\\theta_1(t))\\bigg) sin(\\theta_1(t))\n",
    "\\end{equation}"
   ]
  },
  {
   "cell_type": "code",
   "execution_count": 10,
   "metadata": {
    "collapsed": false
   },
   "outputs": [],
   "source": [
    "g = 9.81\n",
    "l = 1\n",
    "omega = 50\n",
    "\n",
    "def pendulum(o, t):\n",
    "\n",
    "    \n",
    "    return [o[1], -((3*g/(2*l)-((omega**2)*np.cos(o[0]))))*np.sin(o[0])]"
   ]
  },
  {
   "cell_type": "code",
   "execution_count": 11,
   "metadata": {
    "collapsed": false
   },
   "outputs": [],
   "source": [
    "teta0 = np.arccos(3*g/(2*l*omega**2))\n",
    "o0 = [teta0+(20*np.pi/180), 0]"
   ]
  },
  {
   "cell_type": "code",
   "execution_count": 12,
   "metadata": {
    "collapsed": false
   },
   "outputs": [],
   "source": [
    "solpend = integ.odeint(pendulum, o0, t)"
   ]
  },
  {
   "cell_type": "code",
   "execution_count": 13,
   "metadata": {
    "collapsed": false
   },
   "outputs": [
    {
     "data": {
      "text/plain": [
       "0.005886"
      ]
     },
     "execution_count": 13,
     "metadata": {},
     "output_type": "execute_result"
    }
   ],
   "source": [
    "(3*g/(2*l*omega**2))"
   ]
  },
  {
   "cell_type": "markdown",
   "metadata": {},
   "source": [
    "\\begin{equation}\n",
    "\\theta(t) = Asin(\\omega_nt+\\phi)\\\\\n",
    "\\downarrow\\\\\n",
    "A = \\sqrt{\\frac{w_n^2 x_0^2 + v_0^2}{w_n^2}}\\\\\n",
    "\\phi = arctan\\bigg(\\frac{w_n x_0}{v_0}\\bigg)\n",
    "\\end{equation}"
   ]
  },
  {
   "cell_type": "code",
   "execution_count": 14,
   "metadata": {
    "collapsed": false
   },
   "outputs": [],
   "source": [
    "#Solução analítica\n",
    "teta = teta0+(20*np.pi/180)\n",
    "o_0 = [teta-teta0,0]\n",
    "wn = ((-3*g*np.cos(teta0)/(2*l))+omega**2)**0.5\n",
    "#wn = ((-3*g/(2*l))+(omega**2))**0.5\n",
    "A = (((wn**2)*(o_0[0]**2)+(o_0[1]**2))/(wn**2))**0.5\n",
    "if o_0[1] == 0:\n",
    "    phi = np.pi/2\n",
    "else:\n",
    "    phi = np.arctan(wn*0/o_0[1])\n",
    "oa = A*np.sin(wn*t + phi)"
   ]
  },
  {
   "cell_type": "code",
   "execution_count": 15,
   "metadata": {
    "collapsed": true
   },
   "outputs": [],
   "source": [
    "solpendan = teta0+A*np.sin(wn*t+phi)"
   ]
  },
  {
   "cell_type": "code",
   "execution_count": 16,
   "metadata": {
    "collapsed": false
   },
   "outputs": [],
   "source": [
    "fig3 = plt.figure()\n",
    "ax3 = fig3.add_subplot(111)\n",
    "ax3.plot(t, solpendan)\n",
    "ax3.plot(t, solpend[:,0])\n",
    "ax3.set_xlabel('Time')\n",
    "ax3.set_ylabel('Displacement\\nVelocity')\n",
    "ax3.set_yticks([0., np.pi/4, np.pi/2, 3*np.pi/4, np.pi])\n",
    "ax3.set_yticklabels(['0','45','90','135','180'])\n",
    "leg3 = ax3.legend(['Linear','Non linear'])\n",
    "leg3.get_frame().set_linewidth(0.0)\n",
    "plt.show()"
   ]
  },
  {
   "cell_type": "code",
   "execution_count": 623,
   "metadata": {
    "collapsed": false
   },
   "outputs": [],
   "source": [
    "class VibSystemForced(object):\n",
    "    \n",
    "    def __init__(self, m, c, k, t=np.linspace(0,10,1000), x0=[0,0], F=0, w_f=0, phi_f=0, force_type='force_cos', imp_time=[0,0]):\n",
    "        self.m = m\n",
    "        self.c = c\n",
    "        self.k = k\n",
    "        self.t = t\n",
    "        self.x0 = x0\n",
    "        self.F = F\n",
    "        self.w_f = w_f\n",
    "        self.phi_f = phi_f  \n",
    "        self.force_type = force_type\n",
    "        self.imp_time = imp_time\n",
    "        \n",
    "        \n",
    "    #--------------------------------------------PARAMETROS DO SISTEMA--------------------------------------------\n",
    "\n",
    "        self.wn = (self.k/self.m)**0.5    \n",
    "        self.damp_ratio = self.c/(2*((self.k*self.m)**0.5))    \n",
    "        self.log_dec = 2*np.pi*self.damp_ratio / ((1 - self.damp_ratio**2)**0.5)\n",
    "        self.wd = self.wn*(1-self.damp_ratio**2)**0.5\n",
    "        self.period = 1/self.wd\n",
    "        self.amp = (((self.x0[1]+self.damp_ratio*self.x0[0]*self.wn)**2+(self.x0[0]*self.wd)**2)**0.5)/self.wd\n",
    "        if self.x0[1]==0: self.phi = 0\n",
    "        else:\n",
    "            self.phi = np.arctan((self.x0[0]*self.wd)/(self.x0[1]+self.damp_ratio*self.wn*self.x0[0]))        \n",
    "        \n",
    "     \n",
    "    #--------------------------------------------------GRÁFICOS----------------------------------------------------\n",
    "    \n",
    "    def plot_vib(self, displacement=True, velocity=False, spectrum=False, **kwargs):\n",
    "        \"\"\"Plot do gráfico de resposta.\n",
    "        Os argumentos são:\n",
    "        displacement -> o default é True e o gráfico de deslocamento é sempre plotado\n",
    "        velocity -> o default é False\n",
    "        **kwargs:\n",
    "        Os argumentos abaixo tem como default os valores de entrada utilizados na criação do objeto.\n",
    "        Na criação do objeto, caso os valores desses argumentos não sejam definidos, temos os seguintes valores default:\n",
    "        \n",
    "        t=np.linspace(0,10,1000), x0=[0,0], F=0, w_f=0, phi_f=0, force_type='force_cos'\n",
    "        \n",
    "        force_type -> force_cos, force_sen, force_impulse\n",
    "        t -> tempo que será utilizado na análise\n",
    "        x0 -> condições iniciais\n",
    "        F -> Força aplicada em N. Caso o tipo de força seja impulse, entrar também com o tempo de aplicação da força:\n",
    "        imp_time -> tempo de aplicação ex.: [0,0.1]\n",
    "        w_f -> frequência de forçamento\n",
    "        phi_f -> fase do forçamento\n",
    "        \"\"\"\n",
    "        resposta = self.force_integ(**kwargs)       \n",
    "        \n",
    "        fig1 = plt.figure()\n",
    "        ax1 = fig1.add_subplot(211)\n",
    "        ax1.set_xlabel('Time')\n",
    "        \n",
    "        if spectrum == True:\n",
    "            n = len(resposta[:,0])\n",
    "            Y = np.fft.fft(resposta[:,0])\n",
    "            Y = Y[range(n//16)] #Colocando metade da resposta para não mostrar frequências fantasmas\n",
    "            \n",
    "            ax2 = fig1.add_subplot(212)\n",
    "            ax2.stem(abs(Y), linefmt='-k', markerfmt=\" \")\n",
    "            ax2.set_xlabel('Freq (Hz)')\n",
    "                        \n",
    "        ylabel = '\\n'\n",
    "        leg = []\n",
    "                \n",
    "        if displacement == True:\n",
    "            ax1.plot(self.t, resposta[:,0])\n",
    "            ylabel +='Displacement'\n",
    "            leg.append('Displacement')\n",
    "            \n",
    "        if velocity == True:\n",
    "            ax1.plot(self.t, resposta[:,1])\n",
    "            ylabel +='\\nVelocity'\n",
    "            leg.append('Velocity')\n",
    "            \n",
    "        ax1.set_ylabel(ylabel)\n",
    "        leg1 = ax1.legend(leg)\n",
    "        leg1.get_frame().set_linewidth(0.0)           \n",
    "            \n",
    "\n",
    "        \n",
    "        plt.show()\n",
    "        \n",
    "        \n",
    "    #--------------------------------------------FORÇAMENTOS POSSÍVEIS--------------------------------------------\n",
    "    \n",
    "    def force_integ(self, **kwargs): # integra a função response para o forçamento escolhida\n",
    "        \n",
    "        if 'force_type' in kwargs: force_type = kwargs['force_type']\n",
    "        else:  force_type = self.force_type #extrair do kwargs o tipo de força\n",
    "        \n",
    "        if 't' in kwargs: t = kwargs['t']\n",
    "        else: t = self.t\n",
    "        \n",
    "        if 'x0' in kwargs: x0 = kwargs['x0']\n",
    "        else: x0 = self.x0  \n",
    "            \n",
    "        if 'F' in kwargs: F = kwargs['F']\n",
    "        else: F = self.F\n",
    "\n",
    "        if 'w_f' in kwargs: w_f = kwargs['w_f']\n",
    "        else: w_f = self.w_f\n",
    "            \n",
    "        if 'phi_f' in kwargs: phi_f = kwargs['phi_f']\n",
    "        else: phi_f = self.phi_f\n",
    "        \n",
    "        if 'imp_time' in kwargs: imp_time = kwargs['imp_time'] \n",
    "        else: imp_time = self.imp_time\n",
    "            \n",
    "        return integ.odeint(self.response, x0, t, args=(F, w_f, phi_f, force_type, imp_time))  \n",
    "\n",
    "                \n",
    "    #--------------------------------------------RESPOSTA DO SISTEMA--------------------------------------------\n",
    "    \n",
    "    def response(self, x, t, F, w_f, phi_f, force_type, imp_time=0):\n",
    "        #odeint irá calcular essa função para cada tempo e integrar\n",
    "        m = self.m\n",
    "        c = self.c\n",
    "        k = self.k      \n",
    "               \n",
    "        if force_type == 'force_cos':\n",
    "            force = F*np.cos(w_f*t + phi_f)           \n",
    "                \n",
    "        elif force_type == 'force_sen':\n",
    "            force = F*np.sin(w_f*t + phi_f)\n",
    "            \n",
    "        elif force_type == 'force_impulse': \n",
    "            force = F if imp_time[0]<t<imp_time[1] else 0  \n",
    "        \n",
    "        elif force_type == 'force_sawtooth':\n",
    "            force = 0\n",
    "            for n in range(1, 10):                \n",
    "                forceeach = F*((-1*(w_f))/(np.pi*n))*np.sin(w_f*n*t)\n",
    "                force += forceeach\n",
    "        \n",
    "        return [x[1], (force/m) - (c/m)*x[1] - (k/m)*x[0]]        \n",
    "    \n",
    "    \n",
    "       "
   ]
  },
  {
   "cell_type": "code",
   "execution_count": 624,
   "metadata": {
    "collapsed": false
   },
   "outputs": [],
   "source": [
    "vibex1 = VibSystemForced(10, 50, 3000, np.linspace(0,20,100000), [0.0, 0.0], 150, 10)"
   ]
  },
  {
   "cell_type": "code",
   "execution_count": 470,
   "metadata": {
    "collapsed": false
   },
   "outputs": [],
   "source": [
    "vibex1.plot_vib(force_type = 'force_sawtooth', spectrum=True, velocity=False, F=150, w_f=1, x0=[0,0.1])"
   ]
  },
  {
   "cell_type": "code",
   "execution_count": 447,
   "metadata": {
    "collapsed": false
   },
   "outputs": [],
   "source": [
    "vibex1.plot_vib(force_type = 'force_sen', spectrum=True, velocity=False, F=150, w_f=2, x0=[0,0])"
   ]
  },
  {
   "cell_type": "code",
   "execution_count": 27,
   "metadata": {
    "collapsed": true
   },
   "outputs": [],
   "source": [
    "vib313 = VibSystemForced(1, 0.5, 4, t)"
   ]
  },
  {
   "cell_type": "code",
   "execution_count": 28,
   "metadata": {
    "collapsed": false
   },
   "outputs": [],
   "source": [
    "resp1 = vib313.force_integ(force_type = 'force_impulse', imp_time=[0,0.0001], F=2000, x0=[0,0])"
   ]
  },
  {
   "cell_type": "code",
   "execution_count": 29,
   "metadata": {
    "collapsed": false
   },
   "outputs": [],
   "source": [
    "resp2 = vib313.force_integ(force_type = 'force_impulse', imp_time=[0.5,0.6], F=1, x0=[0,0])"
   ]
  },
  {
   "cell_type": "markdown",
   "metadata": {
    "collapsed": true
   },
   "source": [
    "Onda Sawtooth\n",
    "<img src=\"sawtooth.png\">\n",
    "\n",
    "\\begin{equation}\n",
    "a_0 = 0 \\\\\n",
    "a_n = 0 \\\\\n",
    "b_n = \\frac{-1}{\\pi n}\\\\\n",
    "\\downarrow\\\\\n",
    "F(t) = \\sum_{n=1}^{\\infty} b_n sen(nw_nt)\n",
    "\\end{equation}"
   ]
  },
  {
   "cell_type": "code",
   "execution_count": 625,
   "metadata": {
    "collapsed": false
   },
   "outputs": [
    {
     "name": "stdout",
     "output_type": "stream",
     "text": [
      "resp1: 0.00266960855498\n",
      "resp:  0.00266960855498\n",
      "resp1: 0.00272165186098\n",
      "resp:  0.00539126041596\n",
      "resp1: 0.00281172608105\n",
      "resp:  0.00820298649702\n",
      "resp1: 0.00294527751971\n",
      "resp:  0.0111482640167\n",
      "resp1: 0.00313091691328\n",
      "resp:  0.01427918093\n",
      "resp1: 0.00338167055694\n",
      "resp:  0.017660851487\n",
      "resp1: 0.00371706808205\n",
      "resp:  0.021377919569\n",
      "resp1: 0.00416665063247\n",
      "resp:  0.0255445702015\n",
      "resp1: 0.00477598556872\n",
      "resp:  0.0303205557702\n"
     ]
    }
   ],
   "source": [
    "_wn = vibex1.wn\n",
    "_damp = vibex1.damp_ratio\n",
    "_m = vibex1.m\n",
    "wt = 1\n",
    "t = np.linspace(0,20,100000)\n",
    "resp = np.zeros((100000))\n",
    "for n in range(1, 10):\n",
    "    teta = np.arctan((2*_damp*_wn*(n*wt))/(_wn**2 - (n*wt)**2))\n",
    "    resp1 = (-1500*np.sin(n*wt*t - teta)*wt)/((((_wn**2 - (wt*n)**2)**2 + (2*_damp*_wn*(wt*n))**2)**0.5)*n*np.pi*_m)\n",
    "    print ('resp1:', resp1[0])\n",
    "    resp += resp1 \n",
    "    print ('resp: ', (resp[0]))"
   ]
  },
  {
   "cell_type": "code",
   "execution_count": 626,
   "metadata": {
    "collapsed": false
   },
   "outputs": [],
   "source": [
    "plt.plot(t, resp)\n",
    "plt.plot(t, vibex1.force_integ(force_type = 'force_sawtooth', spectrum=True, velocity=False, F=1500, w_f=1, x0=[0,0])[:,0])\n",
    "plt.show()"
   ]
  },
  {
   "cell_type": "code",
   "execution_count": 591,
   "metadata": {
    "collapsed": false
   },
   "outputs": [
    {
     "data": {
      "text/plain": [
       "0.14433756729740643"
      ]
     },
     "execution_count": 591,
     "metadata": {},
     "output_type": "execute_result"
    }
   ],
   "source": [
    "vibex1.damp_ratio"
   ]
  },
  {
   "cell_type": "code",
   "execution_count": 604,
   "metadata": {
    "collapsed": false
   },
   "outputs": [
    {
     "data": {
      "text/plain": [
       "0.11217878622296895"
      ]
     },
     "execution_count": 604,
     "metadata": {},
     "output_type": "execute_result"
    }
   ],
   "source": [
    "resp[2]"
   ]
  },
  {
   "cell_type": "code",
   "execution_count": null,
   "metadata": {
    "collapsed": true
   },
   "outputs": [],
   "source": []
  }
 ],
 "metadata": {
  "kernelspec": {
   "display_name": "Python 3",
   "language": "python",
   "name": "python3"
  },
  "language_info": {
   "codemirror_mode": {
    "name": "ipython",
    "version": 3
   },
   "file_extension": ".py",
   "mimetype": "text/x-python",
   "name": "python",
   "nbconvert_exporter": "python",
   "pygments_lexer": "ipython3",
   "version": "3.5.1"
  }
 },
 "nbformat": 4,
 "nbformat_minor": 0
}
